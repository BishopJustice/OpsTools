{
 "cells": [
  {
   "cell_type": "code",
   "execution_count": 5,
   "metadata": {
    "collapsed": true
   },
   "outputs": [],
   "source": [
    "import numpy as np\n",
    "from pandas import Series, DataFrame\n",
    "import pandas as pd\n"
   ]
  },
  {
   "cell_type": "code",
   "execution_count": 6,
   "metadata": {
    "collapsed": true
   },
   "outputs": [],
   "source": [
    "df1 = pd.read_csv('have.csv',header=0)"
   ]
  },
  {
   "cell_type": "code",
   "execution_count": 7,
   "metadata": {
    "collapsed": true
   },
   "outputs": [],
   "source": [
    "df2 = pd.read_csv('eligible.csv',header=0)"
   ]
  },
  {
   "cell_type": "code",
   "execution_count": 14,
   "metadata": {
    "collapsed": false
   },
   "outputs": [],
   "source": [
    "df3 = pd.merge(df2,df1,on='applicant_id',how='outer')"
   ]
  },
  {
   "cell_type": "code",
   "execution_count": 26,
   "metadata": {
    "collapsed": false
   },
   "outputs": [
    {
     "data": {
      "text/plain": [
       "Index([u'driver_id', u'applicant_id', u'email', u'phone', u'first_name',\n",
       "       u'last_name', u'region', u'count', u'date_passed_100', u'order_number',\n",
       "       u'glowstache_sku', u'name', u'address', u'ship_date',\n",
       "       u'tracking_number'],\n",
       "      dtype='object')"
      ]
     },
     "execution_count": 26,
     "metadata": {},
     "output_type": "execute_result"
    }
   ],
   "source": [
    "df3.columns"
   ]
  },
  {
   "cell_type": "code",
   "execution_count": 27,
   "metadata": {
    "collapsed": false
   },
   "outputs": [
    {
     "data": {
      "text/plain": [
       "<bound method Series.isnull of 0         2015-05-08\n",
       "1         2015-02-27\n",
       "2         2015-04-06\n",
       "3         2015-11-25\n",
       "4         2015-12-11\n",
       "5                NaN\n",
       "6         2015-10-23\n",
       "7                NaN\n",
       "8                NaN\n",
       "9                NaN\n",
       "10               NaN\n",
       "11               NaN\n",
       "12        2015-09-24\n",
       "13        2015-10-01\n",
       "14        2015-11-25\n",
       "15               NaN\n",
       "16        2015-02-27\n",
       "17        2015-04-06\n",
       "18        2015-09-24\n",
       "19               NaN\n",
       "20               NaN\n",
       "21               NaN\n",
       "22        2015-09-02\n",
       "23               NaN\n",
       "24        2015-07-28\n",
       "25        2015-09-02\n",
       "26               NaN\n",
       "27        2015-12-16\n",
       "28        2015-09-18\n",
       "29        2015-12-03\n",
       "             ...    \n",
       "100734    2015-12-16\n",
       "100735    2015-12-16\n",
       "100736    2015-12-16\n",
       "100737    2015-12-16\n",
       "100738    2015-12-16\n",
       "100739    2015-12-16\n",
       "100740    2015-12-16\n",
       "100741    2015-12-16\n",
       "100742    2015-12-16\n",
       "100743    2015-12-16\n",
       "100744    2015-12-16\n",
       "100745    2015-12-16\n",
       "100746    2015-12-16\n",
       "100747    2015-12-16\n",
       "100748    2015-12-16\n",
       "100749    2015-12-16\n",
       "100750    2015-12-16\n",
       "100751    2015-12-16\n",
       "100752    2015-12-16\n",
       "100753    2015-12-16\n",
       "100754    2015-12-16\n",
       "100755    2015-12-16\n",
       "100756    2015-12-16\n",
       "100757    2015-12-16\n",
       "100758    2015-12-16\n",
       "100759    2015-12-16\n",
       "100760    2015-12-16\n",
       "100761    2015-12-16\n",
       "100762    2015-12-22\n",
       "100763    2015-12-22\n",
       "Name: ship_date, dtype: object>"
      ]
     },
     "execution_count": 27,
     "metadata": {},
     "output_type": "execute_result"
    }
   ],
   "source": []
  },
  {
   "cell_type": "code",
   "execution_count": 28,
   "metadata": {
    "collapsed": false
   },
   "outputs": [],
   "source": [
    "df3.to_csv('eligible_with_stache.csv',index=False)"
   ]
  },
  {
   "cell_type": "code",
   "execution_count": null,
   "metadata": {
    "collapsed": false
   },
   "outputs": [],
   "source": []
  },
  {
   "cell_type": "code",
   "execution_count": null,
   "metadata": {
    "collapsed": true
   },
   "outputs": [],
   "source": []
  },
  {
   "cell_type": "code",
   "execution_count": null,
   "metadata": {
    "collapsed": false
   },
   "outputs": [],
   "source": []
  },
  {
   "cell_type": "code",
   "execution_count": null,
   "metadata": {
    "collapsed": false
   },
   "outputs": [],
   "source": []
  },
  {
   "cell_type": "code",
   "execution_count": 15,
   "metadata": {
    "collapsed": true
   },
   "outputs": [],
   "source": []
  },
  {
   "cell_type": "code",
   "execution_count": null,
   "metadata": {
    "collapsed": false
   },
   "outputs": [],
   "source": []
  },
  {
   "cell_type": "code",
   "execution_count": null,
   "metadata": {
    "collapsed": true
   },
   "outputs": [],
   "source": []
  }
 ],
 "metadata": {
  "kernelspec": {
   "display_name": "Python 2",
   "language": "python",
   "name": "python2"
  },
  "language_info": {
   "codemirror_mode": {
    "name": "ipython",
    "version": 2
   },
   "file_extension": ".py",
   "mimetype": "text/x-python",
   "name": "python",
   "nbconvert_exporter": "python",
   "pygments_lexer": "ipython2",
   "version": "2.7.11"
  }
 },
 "nbformat": 4,
 "nbformat_minor": 0
}
